{
 "cells": [
  {
   "cell_type": "markdown",
   "metadata": {
    "collapsed": false
   },
   "source": [
    "**What arrays does in detail. **\n",
    "1. allocate a 10 size of array in memory, from array[0] to array[9]. \n",
    "2. if allocate failed, prints the error and return -1.\n",
    "3. otherwise, set the value of each element in the array from 0 to 9 seperately. And set value inside the memory address at memblock + (i bytes) to i\n",
    "4. print the value in array, value in the allocated memory, the value in foo, which increment three bytes BEYOND the allocated memory (buffer overrun).\n",
    "5. free the block of memory malloc-ed at memblock \n"
   ]
  },
  {
   "cell_type": "code",
   "execution_count": 3,
   "metadata": {
    "collapsed": false
   },
   "outputs": [
    {
     "name": "stdout",
     "output_type": "stream",
     "text": [
      "bash: //Change: No such file or directory\r\n",
      "array[0] : 0.000000\t*(memblock + 0) : 0\tfoo[0] : F\t*(foo + 0) : F\r\n",
      "array[1] : 1.000000\t*(memblock + 1) : 1\tfoo[1] : o\t*(foo + 1) : o\r\n",
      "array[2] : 2.000000\t*(memblock + 2) : 2\tfoo[2] : o\t*(foo + 2) : o\r\n",
      "array[3] : 3.000000\t*(memblock + 3) : 3\tfoo[3] :  \t*(foo + 3) :  \r\n",
      "array[4] : 4.000000\t*(memblock + 4) : 4\tfoo[4] : b\t*(foo + 4) : b\r\n",
      "array[5] : 5.000000\t*(memblock + 5) : 5\tfoo[5] : a\t*(foo + 5) : a\r\n",
      "array[6] : 6.000000\t*(memblock + 6) : 6\tfoo[6] : r\t*(foo + 6) : r\r\n",
      "array[7] : 7.000000\t*(memblock + 7) : 7\tfoo[7] :  \t*(foo + 7) :  \r\n",
      "array[8] : 8.000000\t*(memblock + 8) : 8\tfoo[8] : .\t*(foo + 8) : .\r\n",
      "array[9] : 9.000000\t*(memblock + 9) : 9\tfoo[9] : \u0000\t*(foo + 9) : \u0000\r\n",
      "array[10] : 0.000000\t*(memblock + 10) : 135121\tfoo[10] : a\t*(foo + 10) : a\r\n",
      "array[11] : 0.000000\t*(memblock + 11) : 0\tfoo[11] : r\t*(foo + 11) : r\r\n",
      "array[12] : 0.000000\t*(memblock + 12) : 0\tfoo[12] : r\t*(foo + 12) : r\r\n"
     ]
    }
   ],
   "source": [
    "//Change the type of \"array\" to an array of floats.\n",
    "./src/arrays/arrays"
   ]
  },
  {
   "cell_type": "code",
   "execution_count": 4,
   "metadata": {
    "collapsed": false
   },
   "outputs": [
    {
     "name": "stdout",
     "output_type": "stream",
     "text": [
      "bash: //Change: No such file or directory\r\n",
      "array[0] : 0.000000\t*(memblock + 0) : 0.000000\tfoo[0] : F\t*(foo + 0) : F\r\n",
      "array[1] : 1.000000\t*(memblock + 1) : 1.000000\tfoo[1] : o\t*(foo + 1) : o\r\n",
      "array[2] : 2.000000\t*(memblock + 2) : 2.000000\tfoo[2] : o\t*(foo + 2) : o\r\n",
      "array[3] : 3.000000\t*(memblock + 3) : 3.000000\tfoo[3] :  \t*(foo + 3) :  \r\n",
      "array[4] : 4.000000\t*(memblock + 4) : 4.000000\tfoo[4] : b\t*(foo + 4) : b\r\n",
      "array[5] : 5.000000\t*(memblock + 5) : 5.000000\tfoo[5] : a\t*(foo + 5) : a\r\n",
      "array[6] : 6.000000\t*(memblock + 6) : 6.000000\tfoo[6] : r\t*(foo + 6) : r\r\n",
      "array[7] : 7.000000\t*(memblock + 7) : 7.000000\tfoo[7] :  \t*(foo + 7) :  \r\n",
      "array[8] : 8.000000\t*(memblock + 8) : 8.000000\tfoo[8] : .\t*(foo + 8) : .\r\n",
      "array[9] : 9.000000\t*(memblock + 9) : 9.000000\tfoo[9] : \u0000\t*(foo + 9) : \u0000\r\n",
      "array[10] : 0.000000\t*(memblock + 10) : 0.000000\tfoo[10] : a\t*(foo + 10) : a\r\n",
      "array[11] : 0.000000\t*(memblock + 11) : 0.000000\tfoo[11] : r\t*(foo + 11) : r\r\n",
      "array[12] : 0.000000\t*(memblock + 12) : 0.000000\tfoo[12] : r\t*(foo + 12) : r\r\n",
      "*** Error in `./src/arrays/arrays': free(): invalid next size (fast): 0x0000000000f25010 ***\r\n",
      "Aborted (core dumped)\r\n"
     ]
    }
   ],
   "source": [
    "//Change the type of \"memblock\" to a pointer to long double.\n",
    "./src/arrays/arrays"
   ]
  },
  {
   "cell_type": "markdown",
   "metadata": {},
   "source": [
    "**explain what malloc and free do in detail.**\n",
    "\n",
    "The function malloc is used to allocate a certain amount of memory during the execution of a program. The malloc function will request a block of memory from the heap. If the request is granted, the operating system will reserve the requested amount of memory.\n",
    "\n",
    "When the amount of memory is not needed anymore, you must return it to the operating system by calling the function free. Otherwise, it will always take these memory unless the system's recycle process free it.   "
   ]
  }
 ],
 "metadata": {
  "kernelspec": {
   "display_name": "Bash (Linux)",
   "language": "bash",
   "name": "bash"
  },
  "language_info": {
   "codemirror_mode": "shell",
   "file_extension": ".sh",
   "mimetype": "text/x-sh",
   "name": "bash"
  }
 },
 "nbformat": 4,
 "nbformat_minor": 0
}
