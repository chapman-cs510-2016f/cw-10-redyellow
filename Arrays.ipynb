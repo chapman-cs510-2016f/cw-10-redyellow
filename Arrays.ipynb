{
 "cells": [
  {
   "cell_type": "markdown",
   "metadata": {
    "collapsed": false
   },
   "source": [
    "CS510_CW10_Kaiqin & Helen Nengyin\n",
    "\n",
    "**Question 4.**\n",
    "\n",
    "**i. Describe what *arrays.c* does in detail.**\n",
    "\n",
    "Generally, there are two ways to define the array (pass by value and pass by reference) and one way to define the const char foo (pass by reference, or pointer) but later it uses two ways to print it out.  Specifically,\n",
    "\n",
    "1. Define an array of size 10 in memory;\n",
    "2. Later use a *for* loop to assign values to this array, where the ith value in the array just equals i;\n",
    "3. Use memblock and the function malloc to define the same array;\n",
    "4. Allocate memory for the array using the function malloc, and if there is no enough space in memory, return an error and print out an error message \"malloc failed\";\n",
    "5. Otherwise, in the same *for* loop above, assign values to the array that the ith value in the array equals i.  It uses function *(memblock+i)=i because *(memblock) refers to the value of the first element in the array;\n",
    "6. Define a constant character string foo;\n",
    "7. Print out the values in array, values in the allocated memory, values in foo, with increment three bytes beyond the allocated memory (buffer overrun). \"\\t\" means tab so for each i value, all the four outputs can appear in one line;\n",
    "8. Free the block of memory malloc-ed in memblock.\n",
    "\n",
    "**ii. Change the type of \"array\" to an array of floats.**\n",
    "\n",
    "**iii. Change the type of \"memblock\" to a pointer to long double.**"
   ]
  },
  {
   "cell_type": "code",
   "execution_count": null,
   "metadata": {
    "collapsed": true
   },
   "outputs": [],
   "source": [
    "~/cw-10-redyellow/src/arrays$ ./arrays\n",
    "array[0] : 0.000000     *(memblock + 0) : 0.000000      foo[0] : F      *(foo + 0) : F\n",
    "array[1] : 1.000000     *(memblock + 1) : 1.000000      foo[1] : o      *(foo + 1) : o\n",
    "array[2] : 2.000000     *(memblock + 2) : 2.000000      foo[2] : o      *(foo + 2) : o\n",
    "array[3] : 3.000000     *(memblock + 3) : 3.000000      foo[3] :        *(foo + 3) :\n",
    "array[4] : 4.000000     *(memblock + 4) : 4.000000      foo[4] : b      *(foo + 4) : b\n",
    "array[5] : 5.000000     *(memblock + 5) : 5.000000      foo[5] : a      *(foo + 5) : a\n",
    "array[6] : 6.000000     *(memblock + 6) : 6.000000      foo[6] : r      *(foo + 6) : r\n",
    "array[7] : 7.000000     *(memblock + 7) : 7.000000      foo[7] :        *(foo + 7) :\n",
    "array[8] : 8.000000     *(memblock + 8) : 8.000000      foo[8] : .      *(foo + 8) : .\n",
    "array[9] : 9.000000     *(memblock + 9) : 9.000000      foo[9] :        *(foo + 9) :\n",
    "array[10] : 0.000000    *(memblock + 10) : 0.000000     foo[10] : m     *(foo + 10) : m\n",
    "array[11] : 0.000000    *(memblock + 11) : 0.000000     foo[11] : a     *(foo + 11) : a\n",
    "array[12] : 0.000000    *(memblock + 12) : 0.000000     foo[12] : l     *(foo + 12) : l\n",
    "~/cw-10-redyellow/src/arrays$  "
   ]
  },
  {
   "cell_type": "markdown",
   "metadata": {},
   "source": [
    "**iv. Refactor *array.c* to add two new functions: *print_arrays* and *set_arrays*.**\n",
    "\n",
    "Tough exercise.  \n",
    "\n",
    "As for the types of two functions, it can both be void, however, there is an *if* loop in *set_arrays* that can return an integer value and it seems I have to change the function type to int to avoid the error message.\n",
    "\n",
    "I added another source file since I finished much later, and I renamed it arrays2.c when committing it to avoid rewriting the existing source file.  It might not be the best solution, since there are still some \"set arrays\" sentences in the main function, but the file works.  To test whether it works, maybe the best way is to temporarily change its name to arrays.c and run make. \n",
    "\n",
    "**v. Explain what *malloc* and *free* do in detail.**\n",
    "\n",
    "Function *malloc* is to allocate a certain amount of memory for execution of a program. The size of memory requested by the function *malloc* equals the number of elements in the array times the size of each element, which depends on its type. If the request is granted, the operating system would reserve the requested amount of memory. If there is no enough memory in the system, it would return an error message.\n",
    "\n",
    "If we define (star)(memblock)=malloc(), memblock refers to the address of the first element in array and (star)(memblock) refers to the value of the first element in array.\n",
    "\n",
    "When this memory is no longer needed, we should return it to the operating system by calling function *free*. Otherwise, it would keep occupying this memory unless the system recycle process frees it.  After free the memory, any programs or operations can again use it."
   ]
  }
 ],
 "metadata": {
  "kernelspec": {
   "display_name": "Bash (Linux)",
   "language": "bash",
   "name": "bash"
  },
  "language_info": {
   "codemirror_mode": "shell",
   "file_extension": ".sh",
   "mimetype": "text/x-sh",
   "name": "bash"
  }
 },
 "nbformat": 4,
 "nbformat_minor": 0
}
