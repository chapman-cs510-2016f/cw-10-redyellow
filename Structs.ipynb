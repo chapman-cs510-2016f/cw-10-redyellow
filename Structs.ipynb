{
 "cells": [
  {
   "cell_type": "markdown",
   "metadata": {
    "collapsed": false
   },
   "source": [
    "**what print_structs does in detail.**\n",
    "\n",
    "1. define three user defined variables v, vprime, and w with type, VEC3 and VEC2. \n",
    "2. initalize v and w;\n",
    "3. print original v, which is VEC3, and modified v;\n",
    "4. pring original w, which is VEC2, and modified w."
   ]
  },
  {
   "cell_type": "markdown",
   "metadata": {},
   "source": [
    "**Explain the difference between \"pass by value\" and \"pass by reference\" in your own words**\n",
    "\n",
    "\"pass by value\" means there is a copy of v in the memory, not the original value of the address of v. That's why the seconde printf(v) is still [0.000000, 0.000000, 0.000000].\n",
    "\n",
    "\"pass by reference\" means modify the original value of the address of w directly. Because we transfer an address to the function, like &w\n"
   ]
  },
  {
   "cell_type": "markdown",
   "metadata": {},
   "source": [
    "**Explain the difference between v.x and v->x for a struct v with field x**\n",
    "\n",
    "There is no siginificant difference between these two methods, just different way to use x in struct v."
   ]
  }
 ],
 "metadata": {
  "kernelspec": {
   "display_name": "Python 2 (SageMath)",
   "language": "python",
   "name": "python2"
  },
  "language_info": {
   "codemirror_mode": {
    "name": "ipython",
    "version": 2
   },
   "file_extension": ".py",
   "mimetype": "text/x-python",
   "name": "python",
   "nbconvert_exporter": "python",
   "pygments_lexer": "ipython2",
   "version": "2.7.10"
  }
 },
 "nbformat": 4,
 "nbformat_minor": 0
}
