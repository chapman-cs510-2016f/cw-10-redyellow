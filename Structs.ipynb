{
 "cells": [
  {
   "cell_type": "markdown",
   "metadata": {
    "collapsed": false
   },
   "source": [
    "CS510_CW10_Kaiqin & Helen Nengyin\n",
    "\n",
    "**Question 5.**\n",
    "\n",
    "**i. Describe what *print_structs* does in detail.**\n",
    "\n",
    "To understand what *print_structs* does must understand *structs.h* and *structs.c* first.\n",
    "\n",
    "In *structs.h*,\n",
    "\n",
    "1. Define a structure vec3 which is a 3D long double vector;\n",
    "2. *typedef* (as far as I learned) is to give a user defined data type a \"nickname\", which is usually shorter and more convenient to call later.  In this header file, VEC3 stands for struct vec3 and COMP is same as long double;\n",
    "3. Define a structure vec2 (or VEC2), which is a 2D long double (using nickname COMP) vector;\n",
    "4. Define the type of four functions: \n",
    "  1) VEC3 modifyVec3(VEC3, COMP);\n",
    "  2) void setVec2(VEC2 (star)wp, COMP, COMP);\n",
    "  3) void printVec2(VEC2 *wp);\n",
    "  4) void printVec3(VEC3);\n",
    "\n",
    "In *structs.c*,\n",
    "\n",
    "1. Function \"VEC3 modifyVec3(VEC3, COMP)\" is to modify field x of the original 3D vector.  It is pass by value;\n",
    "2. Function \"void setVec2(VEC2 (star)wp, COMP, COMP)\" is to set both the x and y values of the 2D vector.  Both are pass by reference.  ((star)wp).x = x and wp->y = y are two different ways to assign value to a pointer;\n",
    "3. Two print functions are straightforward.\n",
    "\n",
    "Finally, in *print_structs*,\n",
    "\n",
    "1. There are two 3D vectors (VEC3) v and vprime, and one 2D vector (VEC2) w; \n",
    "2. Initialize v and w, where all the values are zero;\n",
    "3. Print original v;\n",
    "4. Modify the x value of v to 15, rename it as vprime, and print it out;\n",
    "5. Print original w;\n",
    "6. Reset the x and y values of w to 1 and 2, and print it out."
   ]
  },
  {
   "cell_type": "code",
   "execution_count": null,
   "metadata": {
    "collapsed": true
   },
   "outputs": [],
   "source": [
    "~/cw-10-redyellow/src/structs$ ./print_structs\n",
    "-----Pass by value test-----\n",
    "Original 3 vector:\n",
    "3Vector : [0.000000, 0.000000, 0.000000]\n",
    "Original 3 vector after modification:\n",
    "3Vector : [0.000000, 0.000000, 0.000000]\n",
    "New 3 vector after modification:\n",
    "3Vector : [15.000000, 0.000000, 0.000000]\n",
    "-----Pass by reference test-----\n",
    "Original 2 vector:\n",
    "2Vector : [0.000000, 0.000000]\n",
    "Original 2 vector after modification:\n",
    "2Vector : [1.000000, 2.000000]\n",
    "~/cw-10-redyellow/src/structs$  "
   ]
  },
  {
   "cell_type": "markdown",
   "metadata": {},
   "source": [
    "**ii. Explain the difference between \"pass by value\" and \"pass by reference\" in your own words.**\n",
    "\n",
    "\"Pass by value\" first step is to make a copy of v in the memory, modify the copy, not the original value that is in the address of v. This explains why the second printf(v) is still [0.000000, 0.000000, 0.000000] while the modified vprime is now [15.000000, 0.000000, 0.000000].\n",
    "\n",
    "\"Pass by reference\" means to modify the original value in address of w directly. Instead of making a copy of the data, now it makes a copy of the address that directs to the same memory location. This explains why after value reset, w becomes [1.000000, 2.000000].\n",
    "\n",
    "Some additional notations are, \n",
    "1. If x is a pointer, (star)x means the value directed to by pointer x, and x is the address;\n",
    "2. If x is a value, &x refers the address.\n",
    "\n",
    "Using pointers makes it more convenient to modify inputs.  Moreover, it saves memory space when the value is too large to copy.\n",
    "\n",
    "**iii. Explain the difference between v.x and v->x for a struct v with field x**\n",
    "\n",
    "v.x is used when v is passing by value.  v->x is used when v is passing by reference.  Another notation for passing by value cases is ((star)v).x."
   ]
  }
 ],
 "metadata": {
  "kernelspec": {
   "display_name": "Python 2 (SageMath)",
   "language": "python",
   "name": "python2"
  },
  "language_info": {
   "codemirror_mode": {
    "name": "ipython",
    "version": 2
   },
   "file_extension": ".py",
   "mimetype": "text/x-python",
   "name": "python",
   "nbconvert_exporter": "python",
   "pygments_lexer": "ipython2",
   "version": "2.7.10"
  }
 },
 "nbformat": 4,
 "nbformat_minor": 0
}
