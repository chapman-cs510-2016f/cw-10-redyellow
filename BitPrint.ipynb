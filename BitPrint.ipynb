{
 "cells": [
  {
   "cell_type": "markdown",
   "metadata": {
    "collapsed": true
   },
   "source": [
    "**Question 2**\n",
    "\n",
    "A bin directory is created by *mkdir -p bin*.  A bin directory is to store executable files (as far as I learned by asking people).  And the directory is removed by *rm -f bin/* in cleaner.\n",
    "\n",
    "Compiler flags are \"export CFLAGS = -Wall -O2\".  \"-Wall\" is to get warning messages for all the potential problems.  "
   ]
  },
  {
   "cell_type": "markdown",
   "metadata": {},
   "source": [
    "**Question 3** \n",
    "**i. What print_types does in detail**\n",
    "\n",
    "If there is one command line argument, for example, ./print_types 2, it prints out different representations of this same value.  Specifically, it shows the name of type, the size in bit and byte seperately (number of bits = number of bytes * 8), and how it is represented using binary system (the bit string).  \n",
    "\n",
    "If there is no argument, it would return all the representations for the default value, 65.\n",
    "\n",
    "If there are more than one arguments, it would also use the default value, 65.  Because in the if loop, it does not satisfy argc==2.\n",
    "\n",
    "**ii. What are the integer values for the letters 'A', 'Z', 'a', and 'z'?**\n",
    "\n",
    "'A': 65\n",
    "'Z': 90\n",
    "'a': 97\n",
    "'z': 122\n",
    "\n",
    "**iii. What are the integer values for the numbers '0', '1', and '9' as characters?**\n",
    "\n",
    "'0': 48\n",
    "'1': 49\n",
    "'9': 57\n",
    "\n",
    "*(I can only find the values in ii and iii by guess & try.  Wonder if there is better way to do it.)*\n",
    "\n",
    "**iv. If you needed to store a 2D array of 10000x10000 complex numbers, how much memory would it require (in megabytes) if: (Recall the prefixes: kilo = 10^3, mega = 10^6, giga = 10^9, tera = 10^12, peta = 10^15, exa = 10^18, zetta = 10^21, yotta = 10^24)**\n",
    "\n",
    "a) the real and imaginary parts were each shorts? \n",
    "\n",
    "400MB (2 * 2 bytes * 10^8)\n",
    "\n",
    "b) the real and imaginary parts were each long doubles? \n",
    "\n",
    "1600MB (2 * 16 bytes * 10^8)\n",
    "\n",
    "**v. Work out the algorithm for how the bit string for an unsigned int is interpreted as an integer.**\n",
    "\n",
    "For an unsigned int, the integer value is the sum of b[i] * 2^(i-1), where i is the position starting from right side, and b[i] is the ith value in the bit string.  For example, 00000000000000000000000001000001= 1 * 2^(1-1) + 1 * 2^(7-1) = 65. \n",
    "\n",
    "**vi. Work out the algorithm for how the bit string for a (signed) int is interpreted as an integer.  How does this differ from an unsigned int?  What are the maximum and minimum bounds of each?**\n",
    "\n",
    "For a signed int, it takes the first bit from left as the sign(+/-) indicator.  \n",
    "\n",
    "How to calculate the value for a negative integer is a little bit tricky.  The former fomula Sum[b[i] * 2^(i-1)] no longer works, but instead, we should use addition/substraction.  For example, if we want to know the bit string for (-1), 100000000000000000000001 is wrong because \n",
    "   000000000000000000000001 (1) \n",
    " + 100000000000000000000001 \n",
    " = 100000000000000000000010 (-2)  \n",
    " \n",
    "Correct answer should be \n",
    "   000000000000000000000001 (1) \n",
    " + 111111111111111111111111 \n",
    " = 000000000000000000000000 (0) \n",
    "\n",
    "So the bit string for (-1) is 111111111111111111111111.\n",
    "\n",
    "After several trials, we can easily understand the **2's complement** by induction.  It says finding the bit string for a negative value (-n) just needs to inverse 1 and 0 in the bit string for the positive value (n-1).  For example, for (-5), we first write out 4, which is 000000000000000000000100, and (-5) should be 111111111111111111111011.  A check can be \n",
    "   000000000000000000000101 (5) \n",
    "+  111111111111111111111011 (-5)\n",
    "= 1000000000000000000000000 (0)\n",
    "   \n",
    "\n",
    "The maximum and minimum for unsigned int and signed int are\n",
    "\n",
    "|        | unsigned int  | signed int |\n",
    "|--------|---------------|------------|\n",
    "|minimum |  0            |  -2^31     |\n",
    "|maximum |  2^32 - 1     |  2^31 - 1  |\n",
    "\n",
    "The maximum values are 2^n - 1, where the -1 is because integer 0 takes the first non-negative bit string."
   ]
  }
 ],
 "metadata": {
  "kernelspec": {
   "display_name": "Bash (Linux)",
   "language": "bash",
   "name": "bash"
  },
  "language_info": {
   "codemirror_mode": "shell",
   "file_extension": ".sh",
   "mimetype": "text/x-sh",
   "name": "bash"
  }
 },
 "nbformat": 4,
 "nbformat_minor": 0
}
