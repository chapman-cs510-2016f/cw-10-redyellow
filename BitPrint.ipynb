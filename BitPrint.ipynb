{
 "cells": [
  {
   "cell_type": "markdown",
   "metadata": {},
   "source": [
    "**what print_types does in detail**\n",
    "\n",
    " Print type name, number of bytes, and number of bits(number of bits = number of bytes * 8).  \n",
    " "
   ]
  },
  {
   "cell_type": "markdown",
   "metadata": {
    "collapsed": false
   },
   "source": [
    "**What are the integer values for the letters 'A', 'Z', 'a', and 'z'?**\n",
    "\n",
    "'A': 65\n",
    "'Z': 90\n",
    "'a': 97\n",
    "'z': 122\n",
    "\n",
    "**What are the integer values for the numbers '0', '1', and '9' as characters?**\n",
    "\n",
    "'0': 48\n",
    "'1': 49\n",
    "'9': 57\n",
    "\n",
    "\n",
    "**If you needed to store a 2D array of 10000x10000 complex numbers, how much memory would it require (in megabytes) if: (Recall the prefixes: kilo = 10^3, mega = 10^6, giga = 10^9, tera = 10^12, peta = 10^15, exa = 10^18, zetta = 10^21, yotta = 10^24)**\n",
    "\n",
    "a) the real and imaginary parts were each shorts? \n",
    "\n",
    "400MB\n",
    "\n",
    "b) the real and imaginary parts were each long doubles? \n",
    "\n",
    "1600MB\n",
    "\n",
    "\n",
    "**Work out the algorithm for how the bit string for an unsigned int is interpreted as an integer.**\n",
    "\n",
    "For unsigned int, the integer will be the sum of b[i]*2^(i-1), where i is the position start from right, b[i] is the ith value. For example, 00000000000000000000000001000001= 1*2^0+1*2^6=65. \n",
    "\n",
    "**Work out the algorithm for how the bit string for a (signed) int is interpreted as an integer. How does this differ from an unsigned int? What are the maximum and minimum bounds of each?**\n",
    "\n",
    "For signed int, it will take the most left bit as the sign(+/-). The integer will be the sum of b[i]*2^(i-1), but the range of i is [1,31], which is [1,32] in unsiged int. \n",
    "\n",
    "\n",
    "|        | unsigned int        | signed int |\n",
    "|--------|---------------------|------------|\n",
    "|minimum |0                    | -2^31      |\n",
    "|maximum |  2^32 -1            | 2^31 - 1  |\n"
   ]
  },
  {
   "cell_type": "code",
   "execution_count": null,
   "metadata": {
    "collapsed": true
   },
   "outputs": [],
   "source": []
  }
 ],
 "metadata": {
  "kernelspec": {
   "display_name": "Bash (Linux)",
   "language": "bash",
   "name": "bash"
  },
  "language_info": {
   "codemirror_mode": "shell",
   "file_extension": ".sh",
   "mimetype": "text/x-sh",
   "name": "bash"
  }
 },
 "nbformat": 4,
 "nbformat_minor": 0
}
